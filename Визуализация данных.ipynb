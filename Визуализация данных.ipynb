{
 "cells": [
  {
   "cell_type": "code",
   "execution_count": 9,
   "metadata": {},
   "outputs": [],
   "source": [
    "import pandas as pd \n",
    "covid = pd.read_csv('data/covid_data.csv', sep= ',')\n",
    "country_vactinations = pd.read_csv('data/country_vaccinations.csv', sep= ',')\n",
    "country_vactinations = country_vactinations[\n",
    "    ['country', 'date', 'total_vaccinations', \n",
    "     'people_vaccinated', 'people_vaccinated_per_hundred',\n",
    "     'people_fully_vaccinated', 'people_fully_vaccinated_per_hundred',\n",
    "     'daily_vaccinations', 'vaccines']\n",
    "]"
   ]
  },
  {
   "cell_type": "code",
   "execution_count": 2,
   "metadata": {},
   "outputs": [],
   "source": [
    "cov = covid.copy()\n",
    "vact = country_vactinations.copy()"
   ]
  },
  {
   "cell_type": "code",
   "execution_count": 3,
   "metadata": {},
   "outputs": [],
   "source": [
    "cov = cov.groupby(['date' , 'country'] , as_index= False)[['confirmed', 'deaths', 'recovered']].sum()\n",
    "cov['date'] = pd.to_datetime(cov['date'])\n",
    "cov['active'] = cov['confirmed'] - cov['deaths'] - cov['recovered']\n",
    "cov = cov.sort_values(by=['date', 'country'])\n",
    "cov['daily_confirmed'] = cov.groupby('country')['confirmed'].diff()\n",
    "cov['daily_deaths'] = cov.groupby('country')['deaths'].diff()\n",
    "cov['daily_recovered'] = cov.groupby('country')['recovered'].diff()\n",
    "vact['date'] = pd.to_datetime(vact['date'])\n",
    "covid_df = vact.merge(\n",
    "    cov,\n",
    "    on=['date','country'],\n",
    "    how='right'\n",
    ")\n",
    "covid_df['death_rate'] = covid_df['deaths'] / covid_df['confirmed'] * 100\n",
    "covid_df['recover_rate'] = covid_df['recovered'] / covid_df['confirmed'] * 100"
   ]
  },
  {
   "attachments": {},
   "cell_type": "markdown",
   "metadata": {},
   "source": [
    "# Визуализация в Pundas"
   ]
  },
  {
   "attachments": {},
   "cell_type": "markdown",
   "metadata": {},
   "source": [
    "Установка библиотеки визуальзации в Pandas"
   ]
  },
  {
   "cell_type": "code",
   "execution_count": null,
   "metadata": {},
   "outputs": [],
   "source": [
    "pip install matplotlib"
   ]
  },
  {
   "attachments": {},
   "cell_type": "markdown",
   "metadata": {},
   "source": [
    "# .plot()"
   ]
  },
  {
   "cell_type": "code",
   "execution_count": null,
   "metadata": {},
   "outputs": [],
   "source": [
    "x # название признака, который будет отложен по оси абсцисс;\n",
    "y # название признака, который будет отложен по оси ординат;\n",
    "figsize # размер графика (кортеж из ширины и высоты в дюймах);\n",
    "\n",
    "kind # тип визуализации. Основные типы:\n",
    "   'line' # линейный график (по умолчанию);\n",
    "   'bar' # столбчатая диаграмма;\n",
    "   'barh' # горизонтальная столбчатая диаграмма;\n",
    "   'hist' # гистограмма;\n",
    "   'box' # коробчатая диаграмма (boxplot);\n",
    "   'pie' # круговая диаграмма;\n",
    "   'scatter' # диаграмма рассеяния.\n",
    "   \n",
    "grid # отображение сетки (по умолчанию False);\n",
    "legend # отображение легенды (по умолчанию False);\n",
    "title # название графика;\n",
    "color # цвет.\n"
   ]
  },
  {
   "cell_type": "code",
   "execution_count": 4,
   "metadata": {},
   "outputs": [],
   "source": [
    "grouped_cases = covid_df.groupby('date')['daily_confirmed'].sum()\n",
    "grouped_cases.plot(kind='line',\n",
    "                   figsaze = (12,4),\n",
    "                   title= 'Ежедневная заболеваемость во времени',\n",
    "                   grid= True,\n",
    "                   lw=3)"
   ]
  },
  {
   "cell_type": "code",
   "execution_count": 5,
   "metadata": {},
   "outputs": [
    {
     "ename": "ImportError",
     "evalue": "matplotlib is required for plotting when the default backend \"matplotlib\" is selected.",
     "output_type": "error",
     "traceback": [
      "\u001b[0;31m---------------------------------------------------------------------------\u001b[0m",
      "\u001b[0;31mImportError\u001b[0m                               Traceback (most recent call last)",
      "Cell \u001b[0;32mIn[5], line 1\u001b[0m\n\u001b[0;32m----> 1\u001b[0m grouped_cases\u001b[39m.\u001b[39;49mplot(kind\u001b[39m=\u001b[39;49m\u001b[39m'\u001b[39;49m\u001b[39mline\u001b[39;49m\u001b[39m'\u001b[39;49m,\n\u001b[1;32m      2\u001b[0m                    figsaze \u001b[39m=\u001b[39;49m (\u001b[39m12\u001b[39;49m,\u001b[39m4\u001b[39;49m),\n\u001b[1;32m      3\u001b[0m                    title\u001b[39m=\u001b[39;49m \u001b[39m'\u001b[39;49m\u001b[39mЕжедневная заболеваемость во времени\u001b[39;49m\u001b[39m'\u001b[39;49m,\n\u001b[1;32m      4\u001b[0m                    grid\u001b[39m=\u001b[39;49m \u001b[39mTrue\u001b[39;49;00m,\n\u001b[1;32m      5\u001b[0m                    lw\u001b[39m=\u001b[39;49m\u001b[39m3\u001b[39;49m)\n",
      "File \u001b[0;32m~/.local/lib/python3.11/site-packages/pandas/plotting/_core.py:920\u001b[0m, in \u001b[0;36mPlotAccessor.__call__\u001b[0;34m(self, *args, **kwargs)\u001b[0m\n\u001b[1;32m    919\u001b[0m \u001b[39mdef\u001b[39;00m \u001b[39m__call__\u001b[39m(\u001b[39mself\u001b[39m, \u001b[39m*\u001b[39margs, \u001b[39m*\u001b[39m\u001b[39m*\u001b[39mkwargs):\n\u001b[0;32m--> 920\u001b[0m     plot_backend \u001b[39m=\u001b[39m _get_plot_backend(kwargs\u001b[39m.\u001b[39;49mpop(\u001b[39m\"\u001b[39;49m\u001b[39mbackend\u001b[39;49m\u001b[39m\"\u001b[39;49m, \u001b[39mNone\u001b[39;49;00m))\n\u001b[1;32m    922\u001b[0m     x, y, kind, kwargs \u001b[39m=\u001b[39m \u001b[39mself\u001b[39m\u001b[39m.\u001b[39m_get_call_args(\n\u001b[1;32m    923\u001b[0m         plot_backend\u001b[39m.\u001b[39m\u001b[39m__name__\u001b[39m, \u001b[39mself\u001b[39m\u001b[39m.\u001b[39m_parent, args, kwargs\n\u001b[1;32m    924\u001b[0m     )\n\u001b[1;32m    926\u001b[0m     kind \u001b[39m=\u001b[39m \u001b[39mself\u001b[39m\u001b[39m.\u001b[39m_kind_aliases\u001b[39m.\u001b[39mget(kind, kind)\n",
      "File \u001b[0;32m~/.local/lib/python3.11/site-packages/pandas/plotting/_core.py:1886\u001b[0m, in \u001b[0;36m_get_plot_backend\u001b[0;34m(backend)\u001b[0m\n\u001b[1;32m   1883\u001b[0m \u001b[39mif\u001b[39;00m backend_str \u001b[39min\u001b[39;00m _backends:\n\u001b[1;32m   1884\u001b[0m     \u001b[39mreturn\u001b[39;00m _backends[backend_str]\n\u001b[0;32m-> 1886\u001b[0m module \u001b[39m=\u001b[39m _load_backend(backend_str)\n\u001b[1;32m   1887\u001b[0m _backends[backend_str] \u001b[39m=\u001b[39m module\n\u001b[1;32m   1888\u001b[0m \u001b[39mreturn\u001b[39;00m module\n",
      "File \u001b[0;32m~/.local/lib/python3.11/site-packages/pandas/plotting/_core.py:1817\u001b[0m, in \u001b[0;36m_load_backend\u001b[0;34m(backend)\u001b[0m\n\u001b[1;32m   1815\u001b[0m         module \u001b[39m=\u001b[39m importlib\u001b[39m.\u001b[39mimport_module(\u001b[39m\"\u001b[39m\u001b[39mpandas.plotting._matplotlib\u001b[39m\u001b[39m\"\u001b[39m)\n\u001b[1;32m   1816\u001b[0m     \u001b[39mexcept\u001b[39;00m \u001b[39mImportError\u001b[39;00m:\n\u001b[0;32m-> 1817\u001b[0m         \u001b[39mraise\u001b[39;00m \u001b[39mImportError\u001b[39;00m(\n\u001b[1;32m   1818\u001b[0m             \u001b[39m\"\u001b[39m\u001b[39mmatplotlib is required for plotting when the \u001b[39m\u001b[39m\"\u001b[39m\n\u001b[1;32m   1819\u001b[0m             \u001b[39m'\u001b[39m\u001b[39mdefault backend \u001b[39m\u001b[39m\"\u001b[39m\u001b[39mmatplotlib\u001b[39m\u001b[39m\"\u001b[39m\u001b[39m is selected.\u001b[39m\u001b[39m'\u001b[39m\n\u001b[1;32m   1820\u001b[0m         ) \u001b[39mfrom\u001b[39;00m \u001b[39mNone\u001b[39m\n\u001b[1;32m   1821\u001b[0m     \u001b[39mreturn\u001b[39;00m module\n\u001b[1;32m   1823\u001b[0m found_backend \u001b[39m=\u001b[39m \u001b[39mFalse\u001b[39;00m\n",
      "\u001b[0;31mImportError\u001b[0m: matplotlib is required for plotting when the default backend \"matplotlib\" is selected."
     ]
    }
   ],
   "source": [
    "grouped_cases.plot(kind='line',\n",
    "                   figsaze = (12,4),\n",
    "                   title= 'Ежедневная заболеваемость во времени',\n",
    "                   grid= True,\n",
    "                   lw=3)"
   ]
  },
  {
   "cell_type": "code",
   "execution_count": null,
   "metadata": {},
   "outputs": [],
   "source": []
  }
 ],
 "metadata": {
  "kernelspec": {
   "display_name": "Python 3",
   "language": "python",
   "name": "python3"
  },
  "language_info": {
   "codemirror_mode": {
    "name": "ipython",
    "version": 3
   },
   "file_extension": ".py",
   "mimetype": "text/x-python",
   "name": "python",
   "nbconvert_exporter": "python",
   "pygments_lexer": "ipython3",
   "version": "3.11.2"
  },
  "orig_nbformat": 4
 },
 "nbformat": 4,
 "nbformat_minor": 2
}
