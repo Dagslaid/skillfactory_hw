{
 "cells": [
  {
   "cell_type": "code",
   "execution_count": 1,
   "metadata": {},
   "outputs": [],
   "source": [
    "import pandas as pd\n",
    "import numpy as np"
   ]
  },
  {
   "cell_type": "code",
   "execution_count": 146,
   "metadata": {},
   "outputs": [],
   "source": [
    "HeadHunter = pd.read_csv('data/dst-3.0_16_1_hh_database.csv' , sep= ';')"
   ]
  },
  {
   "cell_type": "code",
   "execution_count": 151,
   "metadata": {},
   "outputs": [
    {
     "data": {
      "text/html": [
       "<div>\n",
       "<style scoped>\n",
       "    .dataframe tbody tr th:only-of-type {\n",
       "        vertical-align: middle;\n",
       "    }\n",
       "\n",
       "    .dataframe tbody tr th {\n",
       "        vertical-align: top;\n",
       "    }\n",
       "\n",
       "    .dataframe thead th {\n",
       "        text-align: right;\n",
       "    }\n",
       "</style>\n",
       "<table border=\"1\" class=\"dataframe\">\n",
       "  <thead>\n",
       "    <tr style=\"text-align: right;\">\n",
       "      <th></th>\n",
       "      <th>Пол, возраст</th>\n",
       "      <th>ЗП</th>\n",
       "      <th>Ищет работу на должность:</th>\n",
       "      <th>Город, переезд, командировки</th>\n",
       "      <th>Занятость</th>\n",
       "      <th>График</th>\n",
       "      <th>Опыт работы</th>\n",
       "      <th>Последнее/нынешнее место работы</th>\n",
       "      <th>Последняя/нынешняя должность</th>\n",
       "      <th>Образование и ВУЗ</th>\n",
       "      <th>Обновление резюме</th>\n",
       "      <th>Авто</th>\n",
       "    </tr>\n",
       "  </thead>\n",
       "  <tbody>\n",
       "    <tr>\n",
       "      <th>0</th>\n",
       "      <td>Мужчина ,  39 лет , родился 27 ноября 1979</td>\n",
       "      <td>29000 руб.</td>\n",
       "      <td>Системный администратор</td>\n",
       "      <td>Советск (Калининградская область) , не готов к...</td>\n",
       "      <td>частичная занятость, проектная работа, полная ...</td>\n",
       "      <td>гибкий график, полный день, сменный график, ва...</td>\n",
       "      <td>Опыт работы 16 лет 10 месяцев  Август 2010 — п...</td>\n",
       "      <td>МАОУ \"СОШ № 1 г.Немана\"</td>\n",
       "      <td>Системный администратор</td>\n",
       "      <td>Неоконченное высшее образование 2000  Балтийск...</td>\n",
       "      <td>16.04.2019 15:59</td>\n",
       "      <td>Имеется собственный автомобиль</td>\n",
       "    </tr>\n",
       "    <tr>\n",
       "      <th>1</th>\n",
       "      <td>Мужчина ,  60 лет , родился 20 марта 1959</td>\n",
       "      <td>40000 руб.</td>\n",
       "      <td>Технический писатель</td>\n",
       "      <td>Королев , не готов к переезду , готов к редким...</td>\n",
       "      <td>частичная занятость, проектная работа, полная ...</td>\n",
       "      <td>гибкий график, полный день, сменный график, уд...</td>\n",
       "      <td>Опыт работы 19 лет 5 месяцев  Январь 2000 — по...</td>\n",
       "      <td>Временный трудовой коллектив</td>\n",
       "      <td>Менеджер проекта, Аналитик, Технический писатель</td>\n",
       "      <td>Высшее образование 1981  Военно-космическая ак...</td>\n",
       "      <td>12.04.2019 08:42</td>\n",
       "      <td>Не указано</td>\n",
       "    </tr>\n",
       "    <tr>\n",
       "      <th>2</th>\n",
       "      <td>Женщина ,  36 лет , родилась 12 августа 1982</td>\n",
       "      <td>20000 руб.</td>\n",
       "      <td>Оператор</td>\n",
       "      <td>Тверь , не готова к переезду , не готова к ком...</td>\n",
       "      <td>полная занятость</td>\n",
       "      <td>полный день</td>\n",
       "      <td>Опыт работы 10 лет 3 месяца  Октябрь 2004 — Де...</td>\n",
       "      <td>ПАО Сбербанк</td>\n",
       "      <td>Кассир-операционист</td>\n",
       "      <td>Среднее специальное образование 2002 Профессио...</td>\n",
       "      <td>16.04.2019 08:35</td>\n",
       "      <td>Не указано</td>\n",
       "    </tr>\n",
       "    <tr>\n",
       "      <th>3</th>\n",
       "      <td>Мужчина ,  38 лет , родился 25 июня 1980</td>\n",
       "      <td>100000 руб.</td>\n",
       "      <td>Веб-разработчик (HTML / CSS / JS / PHP / базы ...</td>\n",
       "      <td>Саратов , не готов к переезду , готов к редким...</td>\n",
       "      <td>частичная занятость, проектная работа, полная ...</td>\n",
       "      <td>гибкий график, удаленная работа</td>\n",
       "      <td>Опыт работы 18 лет 9 месяцев  Август 2017 — Ап...</td>\n",
       "      <td>OpenSoft</td>\n",
       "      <td>Инженер-программист</td>\n",
       "      <td>Высшее образование 2002  Саратовский государст...</td>\n",
       "      <td>08.04.2019 14:23</td>\n",
       "      <td>Не указано</td>\n",
       "    </tr>\n",
       "    <tr>\n",
       "      <th>4</th>\n",
       "      <td>Женщина ,  26 лет , родилась 3 марта 1993</td>\n",
       "      <td>140000 руб.</td>\n",
       "      <td>Региональный менеджер по продажам</td>\n",
       "      <td>Москва , не готова к переезду , готова к коман...</td>\n",
       "      <td>полная занятость</td>\n",
       "      <td>полный день</td>\n",
       "      <td>Опыт работы 5 лет 7 месяцев  Региональный мене...</td>\n",
       "      <td>Мармелад</td>\n",
       "      <td>Менеджер по продажам</td>\n",
       "      <td>Высшее образование 2015 Кгу Психологии и педаг...</td>\n",
       "      <td>22.04.2019 10:32</td>\n",
       "      <td>Не указано</td>\n",
       "    </tr>\n",
       "    <tr>\n",
       "      <th>...</th>\n",
       "      <td>...</td>\n",
       "      <td>...</td>\n",
       "      <td>...</td>\n",
       "      <td>...</td>\n",
       "      <td>...</td>\n",
       "      <td>...</td>\n",
       "      <td>...</td>\n",
       "      <td>...</td>\n",
       "      <td>...</td>\n",
       "      <td>...</td>\n",
       "      <td>...</td>\n",
       "      <td>...</td>\n",
       "    </tr>\n",
       "    <tr>\n",
       "      <th>44739</th>\n",
       "      <td>Мужчина ,  30 лет , родился 17 января 1989</td>\n",
       "      <td>50000 руб.</td>\n",
       "      <td>Финансист, аналитик, экономист, бухгалтер, мен...</td>\n",
       "      <td>Тверь , готов к переезду (Москва, Химки) , гот...</td>\n",
       "      <td>полная занятость</td>\n",
       "      <td>полный день, удаленная работа</td>\n",
       "      <td>Опыт работы 7 лет 7 месяцев  Финансист, аналит...</td>\n",
       "      <td>ООО \"IAS\" (независимый участник объединения Ru...</td>\n",
       "      <td>Руководитель субгруппы</td>\n",
       "      <td>Высшее образование 2015  Московский гуманитарн...</td>\n",
       "      <td>22.04.2019 12:32</td>\n",
       "      <td>Не указано</td>\n",
       "    </tr>\n",
       "    <tr>\n",
       "      <th>44740</th>\n",
       "      <td>Мужчина ,  27 лет , родился 5 марта 1992</td>\n",
       "      <td>39000 руб.</td>\n",
       "      <td>Системный администратор, IT-специалист</td>\n",
       "      <td>Липецк , готов к переезду , готов к командировкам</td>\n",
       "      <td>проектная работа, частичная занятость, полная ...</td>\n",
       "      <td>удаленная работа, гибкий график, полный день, ...</td>\n",
       "      <td>Опыт работы 7 лет  Системный администратор, IT...</td>\n",
       "      <td>ИП Пестрецов</td>\n",
       "      <td>Предприниматель</td>\n",
       "      <td>Высшее образование (Бакалавр) 2016  Воронежски...</td>\n",
       "      <td>22.04.2019 13:11</td>\n",
       "      <td>Не указано</td>\n",
       "    </tr>\n",
       "    <tr>\n",
       "      <th>44741</th>\n",
       "      <td>Женщина ,  48 лет , родилась 26 декабря 1970</td>\n",
       "      <td>40000 руб.</td>\n",
       "      <td>Аналитик данных, Математик</td>\n",
       "      <td>Челябинск , готова к переезду , готова к редки...</td>\n",
       "      <td>полная занятость</td>\n",
       "      <td>полный день, удаленная работа</td>\n",
       "      <td>Опыт работы 21 год 5 месяцев  Январь 1998 — по...</td>\n",
       "      <td>ОАО «ЧМК», Исследовательско-Технологический Це...</td>\n",
       "      <td>Начальник группы аналитики</td>\n",
       "      <td>Высшее образование 2000  Южно-Уральский госуда...</td>\n",
       "      <td>09.04.2019 05:07</td>\n",
       "      <td>Не указано</td>\n",
       "    </tr>\n",
       "    <tr>\n",
       "      <th>44742</th>\n",
       "      <td>Мужчина ,  24 года , родился 6 октября 1994</td>\n",
       "      <td>20000 руб.</td>\n",
       "      <td>Контент-менеджер</td>\n",
       "      <td>Тамбов , не готов к переезду , не готов к кома...</td>\n",
       "      <td>частичная занятость, полная занятость</td>\n",
       "      <td>удаленная работа</td>\n",
       "      <td>Опыт работы 3 года 10 месяцев  Контент-менедже...</td>\n",
       "      <td>IQ-Maxima</td>\n",
       "      <td>Менеджер проектов</td>\n",
       "      <td>Высшее образование 2015  Тамбовский государств...</td>\n",
       "      <td>26.04.2019 14:25</td>\n",
       "      <td>Имеется собственный автомобиль</td>\n",
       "    </tr>\n",
       "    <tr>\n",
       "      <th>44743</th>\n",
       "      <td>Мужчина ,  38 лет , родился 25 апреля 1980</td>\n",
       "      <td>120000 руб.</td>\n",
       "      <td>Руководитель проекта</td>\n",
       "      <td>Москва , не готов к переезду , не готов к кома...</td>\n",
       "      <td>полная занятость</td>\n",
       "      <td>полный день</td>\n",
       "      <td>Опыт работы 15 лет 10 месяцев  Руководитель пр...</td>\n",
       "      <td>ПАО ГК ТНС энерго</td>\n",
       "      <td>Руководитель отдела технической поддержки</td>\n",
       "      <td>Высшее образование 1997  Южно-Российский госуд...</td>\n",
       "      <td>05.07.2018 20:15</td>\n",
       "      <td>Не указано</td>\n",
       "    </tr>\n",
       "  </tbody>\n",
       "</table>\n",
       "<p>44744 rows × 12 columns</p>\n",
       "</div>"
      ],
      "text/plain": [
       "                                       Пол, возраст           ЗП  \\\n",
       "0        Мужчина ,  39 лет , родился 27 ноября 1979   29000 руб.   \n",
       "1         Мужчина ,  60 лет , родился 20 марта 1959   40000 руб.   \n",
       "2      Женщина ,  36 лет , родилась 12 августа 1982   20000 руб.   \n",
       "3          Мужчина ,  38 лет , родился 25 июня 1980  100000 руб.   \n",
       "4         Женщина ,  26 лет , родилась 3 марта 1993  140000 руб.   \n",
       "...                                             ...          ...   \n",
       "44739    Мужчина ,  30 лет , родился 17 января 1989   50000 руб.   \n",
       "44740      Мужчина ,  27 лет , родился 5 марта 1992   39000 руб.   \n",
       "44741  Женщина ,  48 лет , родилась 26 декабря 1970   40000 руб.   \n",
       "44742   Мужчина ,  24 года , родился 6 октября 1994   20000 руб.   \n",
       "44743    Мужчина ,  38 лет , родился 25 апреля 1980  120000 руб.   \n",
       "\n",
       "                               Ищет работу на должность:  \\\n",
       "0                                Системный администратор   \n",
       "1                                   Технический писатель   \n",
       "2                                               Оператор   \n",
       "3      Веб-разработчик (HTML / CSS / JS / PHP / базы ...   \n",
       "4                      Региональный менеджер по продажам   \n",
       "...                                                  ...   \n",
       "44739  Финансист, аналитик, экономист, бухгалтер, мен...   \n",
       "44740             Системный администратор, IT-специалист   \n",
       "44741                         Аналитик данных, Математик   \n",
       "44742                                   Контент-менеджер   \n",
       "44743                               Руководитель проекта   \n",
       "\n",
       "                            Город, переезд, командировки  \\\n",
       "0      Советск (Калининградская область) , не готов к...   \n",
       "1      Королев , не готов к переезду , готов к редким...   \n",
       "2      Тверь , не готова к переезду , не готова к ком...   \n",
       "3      Саратов , не готов к переезду , готов к редким...   \n",
       "4      Москва , не готова к переезду , готова к коман...   \n",
       "...                                                  ...   \n",
       "44739  Тверь , готов к переезду (Москва, Химки) , гот...   \n",
       "44740  Липецк , готов к переезду , готов к командировкам   \n",
       "44741  Челябинск , готова к переезду , готова к редки...   \n",
       "44742  Тамбов , не готов к переезду , не готов к кома...   \n",
       "44743  Москва , не готов к переезду , не готов к кома...   \n",
       "\n",
       "                                               Занятость  \\\n",
       "0      частичная занятость, проектная работа, полная ...   \n",
       "1      частичная занятость, проектная работа, полная ...   \n",
       "2                                       полная занятость   \n",
       "3      частичная занятость, проектная работа, полная ...   \n",
       "4                                       полная занятость   \n",
       "...                                                  ...   \n",
       "44739                                   полная занятость   \n",
       "44740  проектная работа, частичная занятость, полная ...   \n",
       "44741                                   полная занятость   \n",
       "44742              частичная занятость, полная занятость   \n",
       "44743                                   полная занятость   \n",
       "\n",
       "                                                  График  \\\n",
       "0      гибкий график, полный день, сменный график, ва...   \n",
       "1      гибкий график, полный день, сменный график, уд...   \n",
       "2                                            полный день   \n",
       "3                        гибкий график, удаленная работа   \n",
       "4                                            полный день   \n",
       "...                                                  ...   \n",
       "44739                      полный день, удаленная работа   \n",
       "44740  удаленная работа, гибкий график, полный день, ...   \n",
       "44741                      полный день, удаленная работа   \n",
       "44742                                   удаленная работа   \n",
       "44743                                        полный день   \n",
       "\n",
       "                                             Опыт работы  \\\n",
       "0      Опыт работы 16 лет 10 месяцев  Август 2010 — п...   \n",
       "1      Опыт работы 19 лет 5 месяцев  Январь 2000 — по...   \n",
       "2      Опыт работы 10 лет 3 месяца  Октябрь 2004 — Де...   \n",
       "3      Опыт работы 18 лет 9 месяцев  Август 2017 — Ап...   \n",
       "4      Опыт работы 5 лет 7 месяцев  Региональный мене...   \n",
       "...                                                  ...   \n",
       "44739  Опыт работы 7 лет 7 месяцев  Финансист, аналит...   \n",
       "44740  Опыт работы 7 лет  Системный администратор, IT...   \n",
       "44741  Опыт работы 21 год 5 месяцев  Январь 1998 — по...   \n",
       "44742  Опыт работы 3 года 10 месяцев  Контент-менедже...   \n",
       "44743  Опыт работы 15 лет 10 месяцев  Руководитель пр...   \n",
       "\n",
       "                         Последнее/нынешнее место работы  \\\n",
       "0                                МАОУ \"СОШ № 1 г.Немана\"   \n",
       "1                           Временный трудовой коллектив   \n",
       "2                                           ПАО Сбербанк   \n",
       "3                                               OpenSoft   \n",
       "4                                               Мармелад   \n",
       "...                                                  ...   \n",
       "44739  ООО \"IAS\" (независимый участник объединения Ru...   \n",
       "44740                                       ИП Пестрецов   \n",
       "44741  ОАО «ЧМК», Исследовательско-Технологический Це...   \n",
       "44742                                          IQ-Maxima   \n",
       "44743                                  ПАО ГК ТНС энерго   \n",
       "\n",
       "                           Последняя/нынешняя должность  \\\n",
       "0                               Системный администратор   \n",
       "1      Менеджер проекта, Аналитик, Технический писатель   \n",
       "2                                   Кассир-операционист   \n",
       "3                                   Инженер-программист   \n",
       "4                                  Менеджер по продажам   \n",
       "...                                                 ...   \n",
       "44739                            Руководитель субгруппы   \n",
       "44740                                   Предприниматель   \n",
       "44741                        Начальник группы аналитики   \n",
       "44742                                 Менеджер проектов   \n",
       "44743         Руководитель отдела технической поддержки   \n",
       "\n",
       "                                       Образование и ВУЗ Обновление резюме  \\\n",
       "0      Неоконченное высшее образование 2000  Балтийск...  16.04.2019 15:59   \n",
       "1      Высшее образование 1981  Военно-космическая ак...  12.04.2019 08:42   \n",
       "2      Среднее специальное образование 2002 Профессио...  16.04.2019 08:35   \n",
       "3      Высшее образование 2002  Саратовский государст...  08.04.2019 14:23   \n",
       "4      Высшее образование 2015 Кгу Психологии и педаг...  22.04.2019 10:32   \n",
       "...                                                  ...               ...   \n",
       "44739  Высшее образование 2015  Московский гуманитарн...  22.04.2019 12:32   \n",
       "44740  Высшее образование (Бакалавр) 2016  Воронежски...  22.04.2019 13:11   \n",
       "44741  Высшее образование 2000  Южно-Уральский госуда...  09.04.2019 05:07   \n",
       "44742  Высшее образование 2015  Тамбовский государств...  26.04.2019 14:25   \n",
       "44743  Высшее образование 1997  Южно-Российский госуд...  05.07.2018 20:15   \n",
       "\n",
       "                                 Авто  \n",
       "0      Имеется собственный автомобиль  \n",
       "1                          Не указано  \n",
       "2                          Не указано  \n",
       "3                          Не указано  \n",
       "4                          Не указано  \n",
       "...                               ...  \n",
       "44739                      Не указано  \n",
       "44740                      Не указано  \n",
       "44741                      Не указано  \n",
       "44742  Имеется собственный автомобиль  \n",
       "44743                      Не указано  \n",
       "\n",
       "[44744 rows x 12 columns]"
      ]
     },
     "execution_count": 151,
     "metadata": {},
     "output_type": "execute_result"
    }
   ],
   "source": [
    "HeadHunter"
   ]
  },
  {
   "cell_type": "code",
   "execution_count": 2,
   "metadata": {},
   "outputs": [],
   "source": [
    "products = {'Oranges (packaged)': 114.99, 'Candy (Rotfront)': 280.0, 'Boiled sausage': 199.99, 'Juice J7 (orange)': 119.99, 'Trout (Seven Seas)': 399.99}\n",
    "stocks = {'Boiled sausage': '33%', 'Juice J7 (orange)': '12%', 'Trout (Seven Seas)': '18%'}"
   ]
  },
  {
   "cell_type": "code",
   "execution_count": 3,
   "metadata": {},
   "outputs": [
    {
     "name": "stdout",
     "output_type": "stream",
     "text": [
      "{'Oranges (packaged)': 114.99, 'Candy (Rotfront)': 280.0, 'Boiled sausage': 133.99, 'Juice J7 (orange)': 105.59, 'Trout (Seven Seas)': 327.99}\n"
     ]
    }
   ],
   "source": [
    "print(apply_discounts(products, stocks))"
   ]
  },
  {
   "cell_type": "code",
   "execution_count": 10,
   "metadata": {},
   "outputs": [
    {
     "name": "stdout",
     "output_type": "stream",
     "text": [
      "199.99 33%\n",
      "119.99 12%\n",
      "399.99 18%\n"
     ]
    }
   ],
   "source": [
    "for k in products:\n",
    "    if k in stocks:\n",
    "        print(products[k], stocks[k])126"
   ]
  },
  {
   "cell_type": "code",
   "execution_count": 1,
   "metadata": {},
   "outputs": [],
   "source": [
    "def apply_discounts(products, stocks):\n",
    "    result = products\n",
    "    for k in products:\n",
    "        if k in stocks:\n",
    "            result[k]= round(products[k] - ((products[k] / 100) * (float(stocks[k].replace('%', '')))),2)\n",
    "    return result            "
   ]
  },
  {
   "cell_type": "code",
   "execution_count": 30,
   "metadata": {},
   "outputs": [
    {
     "name": "stdout",
     "output_type": "stream",
     "text": [
      "133.99\n",
      "105.59\n",
      "327.99\n"
     ]
    }
   ],
   "source": [
    "for k in products:\n",
    "    if k in stocks:\n",
    "        print(round(products[k] - ((products[k] / 100) * (int(stocks[k].replace('%', '')))),2))"
   ]
  },
  {
   "cell_type": "code",
   "execution_count": 14,
   "metadata": {},
   "outputs": [
    {
     "data": {
      "text/plain": [
       "{'Oranges (packaged)': 114.99,\n",
       " 'Candy (Rotfront)': 280.0,\n",
       " 'Boiled sausage': 27.0,\n",
       " 'Juice J7 (orange)': 63.32,\n",
       " 'Trout (Seven Seas)': 148.29}"
      ]
     },
     "execution_count": 14,
     "metadata": {},
     "output_type": "execute_result"
    }
   ],
   "source": [
    "products"
   ]
  },
  {
   "cell_type": "code",
   "execution_count": 14,
   "metadata": {},
   "outputs": [
    {
     "name": "stdout",
     "output_type": "stream",
     "text": [
      "{'Oranges (packaged)': 114.99, 'Candy (Rotfront)': 280.0, 'Boiled sausage': 133.99, 'Juice J7 (orange)': 105.59, 'Trout (Seven Seas)': 327.99}\n"
     ]
    }
   ],
   "source": [
    "for k in products:\n",
    "    if k in stocks:\n",
    "        products[k]= round(products[k] - ((products[k] / 100) * (int(stocks[k].replace('%', '')))),2)\n",
    "print(result)        "
   ]
  },
  {
   "cell_type": "code",
   "execution_count": 11,
   "metadata": {},
   "outputs": [
    {
     "data": {
      "text/plain": [
       "{'Oranges (packaged)': 114.99,\n",
       " 'Candy (Rotfront)': 280.0,\n",
       " 'Boiled sausage': 199.99,\n",
       " 'Juice J7 (orange)': 119.99,\n",
       " 'Trout (Seven Seas)': 399.99}"
      ]
     },
     "execution_count": 11,
     "metadata": {},
     "output_type": "execute_result"
    }
   ],
   "source": [
    "products"
   ]
  },
  {
   "cell_type": "code",
   "execution_count": 4,
   "metadata": {},
   "outputs": [],
   "source": [
    "import pandas as pd "
   ]
  },
  {
   "cell_type": "code",
   "execution_count": null,
   "metadata": {},
   "outputs": [],
   "source": [
    "df_1 = pd.read_csv('bronze_top.csv')\n",
    "df_2 = pd.read_csv('silver_top.csv')"
   ]
  },
  {
   "cell_type": "code",
   "execution_count": null,
   "metadata": {},
   "outputs": [],
   "source": [
    "import pandas as pd \n",
    "\n",
    "bronze = pd.read_csv('bronze_top.csv')\n",
    "silver = pd.read_csv('silver_top.csv')\n",
    "\n",
    "merged = bronze.join(\n",
    "    silver,\n",
    "    on='Country',\n",
    "    how='inner',\n",
    "    lsuffix='_bronze',\n",
    "    rsuffix='_silver' \n",
    ")\n"
   ]
  },
  {
   "cell_type": "code",
   "execution_count": null,
   "metadata": {},
   "outputs": [],
   "source": [
    "import pandas as pd \n",
    "\n",
    "bronze = pd.read_csv('bronze_top.csv')\n",
    "silver = pd.read_csv('silver_top.csv')\n",
    "\n",
    "merged = bronze.join(\n",
    "    silver.set_index('Country'),\n",
    "    on = 'Country',\n",
    "    how = 'inner',\n",
    "    lsuffix='_bronze',\n",
    "    rsuffix='_silver' \n",
    ")"
   ]
  },
  {
   "cell_type": "code",
   "execution_count": 1,
   "metadata": {},
   "outputs": [],
   "source": [
    "import pandas as pd"
   ]
  },
  {
   "cell_type": "code",
   "execution_count": 14,
   "metadata": {},
   "outputs": [],
   "source": [
    "solar_data = pd.read_csv('data/solarpower.csv')\n",
    "solar = solar_data.copy()"
   ]
  },
  {
   "cell_type": "code",
   "execution_count": 15,
   "metadata": {},
   "outputs": [
    {
     "data": {
      "text/html": [
       "<div>\n",
       "<style scoped>\n",
       "    .dataframe tbody tr th:only-of-type {\n",
       "        vertical-align: middle;\n",
       "    }\n",
       "\n",
       "    .dataframe tbody tr th {\n",
       "        vertical-align: top;\n",
       "    }\n",
       "\n",
       "    .dataframe thead th {\n",
       "        text-align: right;\n",
       "    }\n",
       "</style>\n",
       "<table border=\"1\" class=\"dataframe\">\n",
       "  <thead>\n",
       "    <tr style=\"text-align: right;\">\n",
       "      <th></th>\n",
       "      <th>date</th>\n",
       "      <th>cum_power</th>\n",
       "    </tr>\n",
       "  </thead>\n",
       "  <tbody>\n",
       "    <tr>\n",
       "      <th>0</th>\n",
       "      <td>2017-01-01</td>\n",
       "      <td>20111.0</td>\n",
       "    </tr>\n",
       "    <tr>\n",
       "      <th>1</th>\n",
       "      <td>2017-01-02</td>\n",
       "      <td>20112.0</td>\n",
       "    </tr>\n",
       "    <tr>\n",
       "      <th>2</th>\n",
       "      <td>2017-01-03</td>\n",
       "      <td>20115.0</td>\n",
       "    </tr>\n",
       "    <tr>\n",
       "      <th>3</th>\n",
       "      <td>2017-01-04</td>\n",
       "      <td>20117.0</td>\n",
       "    </tr>\n",
       "    <tr>\n",
       "      <th>4</th>\n",
       "      <td>2017-01-05</td>\n",
       "      <td>20119.0</td>\n",
       "    </tr>\n",
       "    <tr>\n",
       "      <th>...</th>\n",
       "      <td>...</td>\n",
       "      <td>...</td>\n",
       "    </tr>\n",
       "    <tr>\n",
       "      <th>659</th>\n",
       "      <td>2018-10-22</td>\n",
       "      <td>28101.0</td>\n",
       "    </tr>\n",
       "    <tr>\n",
       "      <th>660</th>\n",
       "      <td>2018-10-23</td>\n",
       "      <td>28109.0</td>\n",
       "    </tr>\n",
       "    <tr>\n",
       "      <th>661</th>\n",
       "      <td>2018-10-24</td>\n",
       "      <td>28115.0</td>\n",
       "    </tr>\n",
       "    <tr>\n",
       "      <th>662</th>\n",
       "      <td>2018-10-25</td>\n",
       "      <td>28117.0</td>\n",
       "    </tr>\n",
       "    <tr>\n",
       "      <th>663</th>\n",
       "      <td>2018-10-26</td>\n",
       "      <td>28120.0</td>\n",
       "    </tr>\n",
       "  </tbody>\n",
       "</table>\n",
       "<p>664 rows × 2 columns</p>\n",
       "</div>"
      ],
      "text/plain": [
       "           date  cum_power\n",
       "0    2017-01-01    20111.0\n",
       "1    2017-01-02    20112.0\n",
       "2    2017-01-03    20115.0\n",
       "3    2017-01-04    20117.0\n",
       "4    2017-01-05    20119.0\n",
       "..          ...        ...\n",
       "659  2018-10-22    28101.0\n",
       "660  2018-10-23    28109.0\n",
       "661  2018-10-24    28115.0\n",
       "662  2018-10-25    28117.0\n",
       "663  2018-10-26    28120.0\n",
       "\n",
       "[664 rows x 2 columns]"
      ]
     },
     "execution_count": 15,
     "metadata": {},
     "output_type": "execute_result"
    }
   ],
   "source": [
    "solar"
   ]
  },
  {
   "cell_type": "code",
   "execution_count": 18,
   "metadata": {},
   "outputs": [
    {
     "data": {
      "text/plain": [
       "Series([], dtype: float64)"
      ]
     },
     "execution_count": 18,
     "metadata": {},
     "output_type": "execute_result"
    }
   ],
   "source": [
    "cols_null_persent = solar.isna().mean()*100\n",
    "cols_with_null = cols_null_persent[cols_null_persent > 0].sort_values(ascending=False)\n",
    "cols_with_null\n"
   ]
  },
  {
   "cell_type": "code",
   "execution_count": 5,
   "metadata": {},
   "outputs": [],
   "source": [
    "def reset(funk):\n",
    "    for i in range(len(solar['cum_power'])):\n",
    "        if solar['cum_power'][i] == '-1':\n",
    "            solar['cum_power'][i] = (solar['cum_power'][i-1] + solar['cum_power'][i+1])/2"
   ]
  },
  {
   "cell_type": "code",
   "execution_count": 17,
   "metadata": {},
   "outputs": [],
   "source": [
    "#создаем копию исходной таблицы\n",
    "#создаем словарь имя столбца: число(признак) на который надо заменить пропуски\n",
    "values = {\n",
    "    'cum_power': solar['cum_power'].median()  \n",
    "}\n",
    "#заполняем пропуски в соответствии с заявленным словарем\n",
    "solar = solar.fillna(values)\n",
    "#выводим результирующую долю пропусков\n"
   ]
  },
  {
   "cell_type": "code",
   "execution_count": 16,
   "metadata": {},
   "outputs": [
    {
     "name": "stdout",
     "output_type": "stream",
     "text": [
      "<class 'pandas.core.frame.DataFrame'>\n",
      "RangeIndex: 664 entries, 0 to 663\n",
      "Data columns (total 2 columns):\n",
      " #   Column     Non-Null Count  Dtype  \n",
      "---  ------     --------------  -----  \n",
      " 0   date       664 non-null    object \n",
      " 1   cum_power  664 non-null    float64\n",
      "dtypes: float64(1), object(1)\n",
      "memory usage: 10.5+ KB\n"
     ]
    }
   ],
   "source": [
    "solar.info()"
   ]
  },
  {
   "cell_type": "code",
   "execution_count": 20,
   "metadata": {},
   "outputs": [
    {
     "data": {
      "text/plain": [
       "23776"
      ]
     },
     "execution_count": 20,
     "metadata": {},
     "output_type": "execute_result"
    }
   ],
   "source": [
    "round(solar['cum_power'].mean())"
   ]
  },
  {
   "cell_type": "code",
   "execution_count": 25,
   "metadata": {},
   "outputs": [
    {
     "data": {
      "text/html": [
       "<div>\n",
       "<style scoped>\n",
       "    .dataframe tbody tr th:only-of-type {\n",
       "        vertical-align: middle;\n",
       "    }\n",
       "\n",
       "    .dataframe tbody tr th {\n",
       "        vertical-align: top;\n",
       "    }\n",
       "\n",
       "    .dataframe thead th {\n",
       "        text-align: right;\n",
       "    }\n",
       "</style>\n",
       "<table border=\"1\" class=\"dataframe\">\n",
       "  <thead>\n",
       "    <tr style=\"text-align: right;\">\n",
       "      <th></th>\n",
       "      <th>date</th>\n",
       "      <th>cum_power</th>\n",
       "    </tr>\n",
       "  </thead>\n",
       "  <tbody>\n",
       "    <tr>\n",
       "      <th>0</th>\n",
       "      <td>2017-01-01</td>\n",
       "      <td>20111.0</td>\n",
       "    </tr>\n",
       "    <tr>\n",
       "      <th>1</th>\n",
       "      <td>2017-01-02</td>\n",
       "      <td>20112.0</td>\n",
       "    </tr>\n",
       "    <tr>\n",
       "      <th>2</th>\n",
       "      <td>2017-01-03</td>\n",
       "      <td>20115.0</td>\n",
       "    </tr>\n",
       "    <tr>\n",
       "      <th>3</th>\n",
       "      <td>2017-01-04</td>\n",
       "      <td>20117.0</td>\n",
       "    </tr>\n",
       "    <tr>\n",
       "      <th>4</th>\n",
       "      <td>2017-01-05</td>\n",
       "      <td>20119.0</td>\n",
       "    </tr>\n",
       "    <tr>\n",
       "      <th>...</th>\n",
       "      <td>...</td>\n",
       "      <td>...</td>\n",
       "    </tr>\n",
       "    <tr>\n",
       "      <th>659</th>\n",
       "      <td>2018-10-22</td>\n",
       "      <td>28101.0</td>\n",
       "    </tr>\n",
       "    <tr>\n",
       "      <th>660</th>\n",
       "      <td>2018-10-23</td>\n",
       "      <td>28109.0</td>\n",
       "    </tr>\n",
       "    <tr>\n",
       "      <th>661</th>\n",
       "      <td>2018-10-24</td>\n",
       "      <td>28115.0</td>\n",
       "    </tr>\n",
       "    <tr>\n",
       "      <th>662</th>\n",
       "      <td>2018-10-25</td>\n",
       "      <td>28117.0</td>\n",
       "    </tr>\n",
       "    <tr>\n",
       "      <th>663</th>\n",
       "      <td>2018-10-26</td>\n",
       "      <td>28120.0</td>\n",
       "    </tr>\n",
       "  </tbody>\n",
       "</table>\n",
       "<p>664 rows × 2 columns</p>\n",
       "</div>"
      ],
      "text/plain": [
       "           date  cum_power\n",
       "0    2017-01-01    20111.0\n",
       "1    2017-01-02    20112.0\n",
       "2    2017-01-03    20115.0\n",
       "3    2017-01-04    20117.0\n",
       "4    2017-01-05    20119.0\n",
       "..          ...        ...\n",
       "659  2018-10-22    28101.0\n",
       "660  2018-10-23    28109.0\n",
       "661  2018-10-24    28115.0\n",
       "662  2018-10-25    28117.0\n",
       "663  2018-10-26    28120.0\n",
       "\n",
       "[664 rows x 2 columns]"
      ]
     },
     "execution_count": 25,
     "metadata": {},
     "output_type": "execute_result"
    }
   ],
   "source": [
    "solar"
   ]
  },
  {
   "cell_type": "code",
   "execution_count": 27,
   "metadata": {},
   "outputs": [],
   "source": [
    "solar['date'] = pd.to_datetime(solar['date'], dayfirst=True)"
   ]
  },
  {
   "cell_type": "code",
   "execution_count": 29,
   "metadata": {},
   "outputs": [],
   "source": [
    "solar['day_power'] = solar['date'].dt.to_period('M')"
   ]
  },
  {
   "cell_type": "code",
   "execution_count": 39,
   "metadata": {},
   "outputs": [
    {
     "data": {
      "text/html": [
       "<div>\n",
       "<style scoped>\n",
       "    .dataframe tbody tr th:only-of-type {\n",
       "        vertical-align: middle;\n",
       "    }\n",
       "\n",
       "    .dataframe tbody tr th {\n",
       "        vertical-align: top;\n",
       "    }\n",
       "\n",
       "    .dataframe thead th {\n",
       "        text-align: right;\n",
       "    }\n",
       "</style>\n",
       "<table border=\"1\" class=\"dataframe\">\n",
       "  <thead>\n",
       "    <tr style=\"text-align: right;\">\n",
       "      <th></th>\n",
       "      <th>date</th>\n",
       "      <th>cum_power</th>\n",
       "      <th>day_power</th>\n",
       "    </tr>\n",
       "  </thead>\n",
       "  <tbody>\n",
       "    <tr>\n",
       "      <th>0</th>\n",
       "      <td>2017-01-01</td>\n",
       "      <td>20111.0</td>\n",
       "      <td>NaN</td>\n",
       "    </tr>\n",
       "    <tr>\n",
       "      <th>1</th>\n",
       "      <td>2017-01-02</td>\n",
       "      <td>20112.0</td>\n",
       "      <td>1.0</td>\n",
       "    </tr>\n",
       "    <tr>\n",
       "      <th>2</th>\n",
       "      <td>2017-01-03</td>\n",
       "      <td>20115.0</td>\n",
       "      <td>3.0</td>\n",
       "    </tr>\n",
       "    <tr>\n",
       "      <th>3</th>\n",
       "      <td>2017-01-04</td>\n",
       "      <td>20117.0</td>\n",
       "      <td>2.0</td>\n",
       "    </tr>\n",
       "    <tr>\n",
       "      <th>4</th>\n",
       "      <td>2017-01-05</td>\n",
       "      <td>20119.0</td>\n",
       "      <td>2.0</td>\n",
       "    </tr>\n",
       "    <tr>\n",
       "      <th>...</th>\n",
       "      <td>...</td>\n",
       "      <td>...</td>\n",
       "      <td>...</td>\n",
       "    </tr>\n",
       "    <tr>\n",
       "      <th>659</th>\n",
       "      <td>2018-10-22</td>\n",
       "      <td>28101.0</td>\n",
       "      <td>6.0</td>\n",
       "    </tr>\n",
       "    <tr>\n",
       "      <th>660</th>\n",
       "      <td>2018-10-23</td>\n",
       "      <td>28109.0</td>\n",
       "      <td>8.0</td>\n",
       "    </tr>\n",
       "    <tr>\n",
       "      <th>661</th>\n",
       "      <td>2018-10-24</td>\n",
       "      <td>28115.0</td>\n",
       "      <td>6.0</td>\n",
       "    </tr>\n",
       "    <tr>\n",
       "      <th>662</th>\n",
       "      <td>2018-10-25</td>\n",
       "      <td>28117.0</td>\n",
       "      <td>2.0</td>\n",
       "    </tr>\n",
       "    <tr>\n",
       "      <th>663</th>\n",
       "      <td>2018-10-26</td>\n",
       "      <td>28120.0</td>\n",
       "      <td>3.0</td>\n",
       "    </tr>\n",
       "  </tbody>\n",
       "</table>\n",
       "<p>664 rows × 3 columns</p>\n",
       "</div>"
      ],
      "text/plain": [
       "          date  cum_power  day_power\n",
       "0   2017-01-01    20111.0        NaN\n",
       "1   2017-01-02    20112.0        1.0\n",
       "2   2017-01-03    20115.0        3.0\n",
       "3   2017-01-04    20117.0        2.0\n",
       "4   2017-01-05    20119.0        2.0\n",
       "..         ...        ...        ...\n",
       "659 2018-10-22    28101.0        6.0\n",
       "660 2018-10-23    28109.0        8.0\n",
       "661 2018-10-24    28115.0        6.0\n",
       "662 2018-10-25    28117.0        2.0\n",
       "663 2018-10-26    28120.0        3.0\n",
       "\n",
       "[664 rows x 3 columns]"
      ]
     },
     "execution_count": 39,
     "metadata": {},
     "output_type": "execute_result"
    }
   ],
   "source": [
    "solar"
   ]
  },
  {
   "cell_type": "code",
   "execution_count": 31,
   "metadata": {},
   "outputs": [],
   "source": [
    "solar['day_power'] = solar['cum_power'].diff()"
   ]
  },
  {
   "cell_type": "code",
   "execution_count": 42,
   "metadata": {},
   "outputs": [
    {
     "data": {
      "text/plain": [
       "date\n",
       "2017-01-01    NaN\n",
       "2017-01-02    1.0\n",
       "2017-01-03    3.0\n",
       "2017-01-04    2.0\n",
       "2017-01-05    2.0\n",
       "             ... \n",
       "2018-10-22    6.0\n",
       "2018-10-23    8.0\n",
       "2018-10-24    6.0\n",
       "2018-10-25    2.0\n",
       "2018-10-26    3.0\n",
       "Name: day_power, Length: 664, dtype: float64"
      ]
     },
     "execution_count": 42,
     "metadata": {},
     "output_type": "execute_result"
    }
   ],
   "source": [
    "solar.groupby('date')['day_power'].mean()"
   ]
  },
  {
   "cell_type": "code",
   "execution_count": 43,
   "metadata": {},
   "outputs": [
    {
     "data": {
      "text/plain": [
       "12.079939668174962"
      ]
     },
     "execution_count": 43,
     "metadata": {},
     "output_type": "execute_result"
    }
   ],
   "source": [
    "solar['day_power'].mean()"
   ]
  },
  {
   "cell_type": "code",
   "execution_count": null,
   "metadata": {},
   "outputs": [],
   "source": []
  }
 ],
 "metadata": {
  "kernelspec": {
   "display_name": "Python 3",
   "language": "python",
   "name": "python3"
  },
  "language_info": {
   "codemirror_mode": {
    "name": "ipython",
    "version": 3
   },
   "file_extension": ".py",
   "mimetype": "text/x-python",
   "name": "python",
   "nbconvert_exporter": "python",
   "pygments_lexer": "ipython3",
   "version": "3.11.1"
  },
  "orig_nbformat": 4
 },
 "nbformat": 4,
 "nbformat_minor": 2
}
