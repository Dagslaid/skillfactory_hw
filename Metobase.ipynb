{
 "cells": [
  {
   "attachments": {},
   "cell_type": "markdown",
   "metadata": {},
   "source": [
    "* SELECT------------------выбор столбцов в таблице(или вся таблица *)\n",
    "* FROM--------------------какую таблицу брать\n",
    "* WHERE-------------------условие к столбцам(пишется после from)\n",
    "* HAVING------------------условие к столбцам агрегирующими функциями(пишется после group by)\n",
    "* ORDER BY----------------сортировка по столбцу(ASC-прямой порядок DESC-обратный порядок)\n",
    "* GROUP BY----------------Групировка по столбцу\n",
    "* AS----------------------переименовать столбец при выводе\n",
    "* BETWEEN-----------------фильтрует строки что находятся между двумя значениями (включая их)\n",
    "* IN----------------------относит условие к каждому значению в скобке\n",
    "* LIKE--------------------нахождение слова по символу 'A%' или '_'(_ занимает один символ) \n",
    "* LIMIT-------------------максимальное количество строк\n",
    "* OFFSET------------------обрезает указанное количество первых строк\n",
    "*\n",
    "* DISTINCT----------------групировка значений в столбце\n",
    "* COUNT-------------------подсчет количества строк\n",
    "* SUM---------------------вычисляет сумму;\n",
    "* AVG---------------------вычисляет среднее;\n",
    "* MAX---------------------вычисляет максимум;\n",
    "* MIN---------------------вычисляет минимум.\n",
    "*\n",
    "* join--------------------присоединение таблиц\n",
    "* on----------------------аргумент по которому будут присоеденяться таблицы"
   ]
  },
  {
   "attachments": {},
   "cell_type": "markdown",
   "metadata": {},
   "source": [
    "* INNER JOIN — это тот же JOIN\n",
    "* LEFT JOIN и RIGHT JOIN\n",
    "* FULL OUTER JOIN объединяет в себе LEFT и RIGHT JOIN и позволяет сохранить кортежи обеих таблиц. Даже если не будет соответствий, мы сохраним все записи из обеих таблиц.\n",
    "* CROSS JOIN соединяет таблицы так, что каждая запись в первой таблице присоединяется к каждой записи во второй таблице\n",
    "* NATURAL JOIN -- позволяет не указывать условие соединения таблиц — для соединения будут использованы столбцы с одинаковым названием из этих таблиц."
   ]
  },
  {
   "attachments": {},
   "cell_type": "markdown",
   "metadata": {},
   "source": [
    "Модель запроса"
   ]
  },
  {
   "cell_type": "code",
   "execution_count": null,
   "metadata": {
    "vscode": {
     "languageId": "sql"
    }
   },
   "outputs": [],
   "source": [
    "SELECT\n",
    "    столбец1 AS новое_название,\n",
    "    столбец2,\n",
    "    АГРЕГАТ(столбец3)\n",
    "FROM таблица\n",
    "WHERE (условие1 OR условие2)\n",
    "    AND условие3\n",
    "GROUP BY столбец1, столбец2\n",
    "HAVING АГРЕГАТ(столбец3) > 5\n",
    "ORDER BY сортировка1, сортировка2\n",
    "OFFSET 1 LIMIT 2"
   ]
  },
  {
   "attachments": {},
   "cell_type": "markdown",
   "metadata": {},
   "source": [
    "## select    - *(Если нужна вся база), или название столбцов\n",
    "## from      - название файла "
   ]
  },
  {
   "cell_type": "code",
   "execution_count": null,
   "metadata": {
    "vscode": {
     "languageId": "sql"
    }
   },
   "outputs": [],
   "source": [
    "select \n",
    "    movie_title, \n",
    "    year, rating\n",
    "    \n",
    "FROM sql.kinopoisk"
   ]
  },
  {
   "attachments": {},
   "cell_type": "markdown",
   "metadata": {},
   "source": [
    "## Переименование столбца при выводе AS "
   ]
  },
  {
   "cell_type": "code",
   "execution_count": null,
   "metadata": {
    "vscode": {
     "languageId": "sql"
    }
   },
   "outputs": [],
   "source": [
    "SELECT\n",
    "    director,\n",
    "    movie_title,\n",
    "    10 - rating AS difference\n",
    "    \n",
    "FROM sql.kinopoisk"
   ]
  },
  {
   "attachments": {},
   "cell_type": "markdown",
   "metadata": {},
   "source": [
    "## Выделение нескольких строк из базы WHERE(вместе со знаками неравенства/равенства)"
   ]
  },
  {
   "attachments": {},
   "cell_type": "markdown",
   "metadata": {},
   "source": [
    "Можно комбенировать условия с помощью AND и OR"
   ]
  },
  {
   "cell_type": "code",
   "execution_count": null,
   "metadata": {
    "vscode": {
     "languageId": "sql"
    }
   },
   "outputs": [],
   "source": [
    "SELECT *\n",
    "\n",
    "FROM sql.kinopoisk \n",
    "\n",
    "WHERE year >= 2000\n",
    "\n",
    "AND rating >= 8"
   ]
  },
  {
   "attachments": {},
   "cell_type": "markdown",
   "metadata": {},
   "source": [
    "## Between(not between) фильтрует строки что ноходятся между двумя значениями"
   ]
  },
  {
   "cell_type": "code",
   "execution_count": null,
   "metadata": {
    "vscode": {
     "languageId": "sql"
    }
   },
   "outputs": [],
   "source": [
    "SELECT *\n",
    "\n",
    "FROM sql.kinopoisk\n",
    "\n",
    "WHERE year BETWEEN 1975 AND 1985"
   ]
  },
  {
   "attachments": {},
   "cell_type": "markdown",
   "metadata": {},
   "source": [
    "## Оператор IN "
   ]
  },
  {
   "cell_type": "code",
   "execution_count": null,
   "metadata": {
    "vscode": {
     "languageId": "sql"
    }
   },
   "outputs": [],
   "source": [
    "select \n",
    "    movie_title\n",
    "\n",
    "FROM sql.kinopoisk\n",
    "\n",
    "where year in (2000, 1985, 1939)"
   ]
  },
  {
   "attachments": {},
   "cell_type": "markdown",
   "metadata": {},
   "source": [
    "## LIKE нахождение значения по 1 или нескольким буквам"
   ]
  },
  {
   "attachments": {},
   "cell_type": "markdown",
   "metadata": {},
   "source": [
    "Оператор (%) означет что после А встречается 0 и более символов"
   ]
  },
  {
   "cell_type": "code",
   "execution_count": null,
   "metadata": {
    "vscode": {
     "languageId": "sql"
    }
   },
   "outputs": [],
   "source": [
    "SELECT *\n",
    "\n",
    "FROM sql.kinopoisk\n",
    "\n",
    "WHERE movie_title LIKE 'А%' "
   ]
  },
  {
   "attachments": {},
   "cell_type": "markdown",
   "metadata": {},
   "source": [
    "## Пустые значения обозначаются как NULL"
   ]
  },
  {
   "cell_type": "code",
   "execution_count": null,
   "metadata": {
    "vscode": {
     "languageId": "sql"
    }
   },
   "outputs": [],
   "source": [
    "IS NULL / IS NOT NULL"
   ]
  },
  {
   "attachments": {},
   "cell_type": "markdown",
   "metadata": {},
   "source": [
    "## ORDER BY Порядок вывода строк в запросе(ASC-прямой порядок DESC-обратный порядок)"
   ]
  },
  {
   "cell_type": "code",
   "execution_count": null,
   "metadata": {
    "vscode": {
     "languageId": "sql"
    }
   },
   "outputs": [],
   "source": [
    "SELECT *\n",
    "\n",
    "FROM sql.kinopoisk\n",
    "\n",
    "ORDER BY rating ASC"
   ]
  },
  {
   "attachments": {},
   "cell_type": "markdown",
   "metadata": {},
   "source": [
    "Так же можно указать где будут идти пустые значения в конце или в начале NULL LAST/ NULL FIRST"
   ]
  },
  {
   "cell_type": "code",
   "execution_count": null,
   "metadata": {
    "vscode": {
     "languageId": "sql"
    }
   },
   "outputs": [],
   "source": [
    "ORDER BY overview NULLS FIRST."
   ]
  },
  {
   "attachments": {},
   "cell_type": "markdown",
   "metadata": {},
   "source": [
    "Можно использовать номера из вывода"
   ]
  },
  {
   "cell_type": "code",
   "execution_count": null,
   "metadata": {
    "vscode": {
     "languageId": "sql"
    }
   },
   "outputs": [],
   "source": [
    "SELECT\n",
    "    director,\n",
    "    movie_title,\n",
    "    year\n",
    "    \n",
    "FROM sql.kinopoisk\n",
    "\n",
    "ORDER BY 1, 3 DESC"
   ]
  },
  {
   "attachments": {},
   "cell_type": "markdown",
   "metadata": {},
   "source": [
    "## LIMIT - Ограничение по выводу строк "
   ]
  },
  {
   "cell_type": "code",
   "execution_count": null,
   "metadata": {
    "vscode": {
     "languageId": "sql"
    }
   },
   "outputs": [],
   "source": [
    "SELECT *\n",
    "\n",
    "FROM sql.kinopoisk\n",
    "\n",
    "LIMIT 10"
   ]
  },
  {
   "attachments": {},
   "cell_type": "markdown",
   "metadata": {},
   "source": [
    "## OFFSET - Обрезает указанное количество первых строк"
   ]
  },
  {
   "attachments": {},
   "cell_type": "markdown",
   "metadata": {},
   "source": [
    "Выведем название и рейтинг фильмов с четвёртого по восьмое место."
   ]
  },
  {
   "cell_type": "code",
   "execution_count": null,
   "metadata": {
    "vscode": {
     "languageId": "sql"
    }
   },
   "outputs": [],
   "source": [
    "SELECT\n",
    "    movie_title,\n",
    "    rating \n",
    "    \n",
    "FROM sql.kinopoisk\n",
    "\n",
    "ORDER BY rating DESC\n",
    "\n",
    "OFFSET 3 LIMIT 5"
   ]
  },
  {
   "attachments": {},
   "cell_type": "markdown",
   "metadata": {},
   "source": [
    "## distinct"
   ]
  },
  {
   "cell_type": "code",
   "execution_count": null,
   "metadata": {
    "vscode": {
     "languageId": "sql"
    }
   },
   "outputs": [],
   "source": [
    "SELECT distinct type1, type2 (так он будет группировать 2 столбца в целом а не по отдельности)\n",
    "from sql.pokemon"
   ]
  },
  {
   "cell_type": "code",
   "execution_count": null,
   "metadata": {
    "vscode": {
     "languageId": "sql"
    }
   },
   "outputs": [],
   "source": [
    "SELECT \n",
    "  type1 as primary_type,\n",
    "  COUNT(DISTINCT type2) as additional_types_count,\n",
    "  avg(hp) as avg_hp,\n",
    "  sum(attack) as attack_sum\n",
    "FROM sql.pokemon\n",
    "group by primary_type\n",
    "order by additional_types_count desc"
   ]
  },
  {
   "attachments": {},
   "cell_type": "markdown",
   "metadata": {},
   "source": [
    "## COUNT"
   ]
  },
  {
   "cell_type": "code",
   "execution_count": null,
   "metadata": {
    "vscode": {
     "languageId": "sql"
    }
   },
   "outputs": [],
   "source": [
    "SELECT count(*) \n",
    "from sql.pokemon"
   ]
  },
  {
   "attachments": {},
   "cell_type": "markdown",
   "metadata": {},
   "source": [
    "## В целом агрегатные функции"
   ]
  },
  {
   "cell_type": "code",
   "execution_count": null,
   "metadata": {
    "vscode": {
     "languageId": "sql"
    }
   },
   "outputs": [],
   "source": [
    "SELECT\n",
    "    COUNT(*) AS \"всего травяных покемонов\",\n",
    "    COUNT(type2) AS \"покемонов с дополнительным типом\",\n",
    "    AVG(attack) AS \"средняя атака\",\n",
    "    AVG(defense) AS \"средняя защита\"\n",
    "\n",
    "FROM sql.pokemon\n",
    "\n",
    "WHERE type1 = 'Grass'"
   ]
  },
  {
   "attachments": {},
   "cell_type": "markdown",
   "metadata": {},
   "source": [
    "## GROUP BY"
   ]
  },
  {
   "cell_type": "code",
   "execution_count": null,
   "metadata": {
    "vscode": {
     "languageId": "sql"
    }
   },
   "outputs": [],
   "source": [
    "SELECT\n",
    "    type1 AS pokemon_type,\n",
    "    COUNT(*) AS pokemon_count\n",
    "\n",
    "FROM sql.pokemon\n",
    "\n",
    "GROUP BY type1\n",
    "\n",
    "ORDER BY type1"
   ]
  },
  {
   "attachments": {},
   "cell_type": "markdown",
   "metadata": {},
   "source": [
    "## HAVING"
   ]
  },
  {
   "cell_type": "code",
   "execution_count": null,
   "metadata": {
    "vscode": {
     "languageId": "sql"
    }
   },
   "outputs": [],
   "source": [
    "SELECT \n",
    "    type1 as primary_type ,\n",
    "    type2 as additional_type\n",
    "FROM sql.pokemon\n",
    "group by type1, type2\n",
    "having avg(attack) > 100 \n",
    "and max(hp) < 80"
   ]
  },
  {
   "cell_type": "code",
   "execution_count": null,
   "metadata": {
    "vscode": {
     "languageId": "sql"
    }
   },
   "outputs": [],
   "source": [
    "SELECT \n",
    "    type1 as primary_type ,\n",
    "    count(type1) as pokemon_count\n",
    "FROM sql.pokemon\n",
    "where name like 'S%'\n",
    "group by type1\n",
    "having avg(defense) > 80 \n",
    "order by pokemon_count desc\n",
    "limit 3\n"
   ]
  },
  {
   "attachments": {},
   "cell_type": "markdown",
   "metadata": {},
   "source": [
    "## JOIN "
   ]
  },
  {
   "cell_type": "code",
   "execution_count": null,
   "metadata": {
    "vscode": {
     "languageId": "sql"
    }
   },
   "outputs": [],
   "source": [
    "select \n",
    "    h.long_name \"Домашняя команда\",\n",
    "    m.home_team_goals \"голы домашней команды\",\n",
    "    m.away_team_goals \"голы гостейвой команды\",\n",
    "    a.long_name \"Гостевая команды\"\n",
    "\n",
    "from \n",
    "    sql.matches m\n",
    "    join sql.teams h on m.home_team_api_id = h.api_id\n",
    "    join sql.teams a on m.away_team_api_id = a.api_id"
   ]
  },
  {
   "cell_type": "code",
   "execution_count": null,
   "metadata": {
    "vscode": {
     "languageId": "sql"
    }
   },
   "outputs": [],
   "source": [
    "select \n",
    "    m.id as \"id матча\",\n",
    "    h.short_name as home_short,\n",
    "    a.short_name as away_short\n",
    "\n",
    "from \n",
    "    sql.matches m\n",
    "    join sql.teams h on m.home_team_api_id = h.api_id\n",
    "    join sql.teams a on m.away_team_api_id = a.api_id\n",
    "order by m.id    "
   ]
  }
 ],
 "metadata": {
  "language_info": {
   "name": "python"
  },
  "orig_nbformat": 4
 },
 "nbformat": 4,
 "nbformat_minor": 2
}
